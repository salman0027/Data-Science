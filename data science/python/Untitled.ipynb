{
 "cells": [
  {
   "cell_type": "code",
   "execution_count": 1,
   "id": "28e80b84",
   "metadata": {},
   "outputs": [
    {
     "name": "stdout",
     "output_type": "stream",
     "text": [
      "Python version\n",
      "3.9.7 (default, Sep 16 2021, 16:59:28) [MSC v.1916 64 bit (AMD64)]\n",
      "Version info.\n",
      "sys.version_info(major=3, minor=9, micro=7, releaselevel='final', serial=0)\n"
     ]
    }
   ],
   "source": [
    "#Python version\n",
    "import sys ;\n",
    "print(\"Python version\");\n",
    "print (sys.version);\n",
    "print(\"Version info.\");\n",
    "print (sys.version_info);"
   ]
  },
  {
   "cell_type": "code",
   "execution_count": null,
   "id": "15cc991f",
   "metadata": {},
   "outputs": [],
   "source": [
    "#Current date and time\n",
    "import datetime\n",
    "now = datetime.datetime.now()\n",
    "print (\"Current date and time : \")\n",
    "print (now.strftime(\"%Y-%m-%d %H:%M:%S\"))"
   ]
  },
  {
   "cell_type": "code",
   "execution_count": null,
   "id": "45a86262",
   "metadata": {},
   "outputs": [],
   "source": [
    "# Radius of circle to calculate area of circle:\n",
    "num1 = int( input('Enter Radius of circle to calculate area of circle: '));\n",
    "p = 2;\n",
    "#num2 = str(num1);\n",
    "#area=3.14*(num2**p);\n",
    "print(num1**p);"
   ]
  },
  {
   "cell_type": "markdown",
   "id": "43a1f265",
   "metadata": {},
   "source": [
    "#### "
   ]
  },
  {
   "cell_type": "code",
   "execution_count": 2,
   "id": "4923d458",
   "metadata": {},
   "outputs": [
    {
     "name": "stdout",
     "output_type": "stream",
     "text": [
      "Enter Radius of circle to calculate area of circle: 3\n",
      "28.26\n"
     ]
    }
   ],
   "source": [
    "# Area of circle :::\n",
    "num1 = int( input('Enter Radius of circle to calculate area of circle: '));\n",
    "p = 2;\n",
    "#num2 = str(num1);\n",
    "area=3.14*(num1**p);\n",
    "print(area);"
   ]
  },
  {
   "cell_type": "code",
   "execution_count": 4,
   "id": "c84c9d2d",
   "metadata": {},
   "outputs": [
    {
     "name": "stdout",
     "output_type": "stream",
     "text": [
      "Enter first name: ddd\n",
      "Enter last name: ggg\n",
      "ggg   ddd\n"
     ]
    }
   ],
   "source": [
    "num1 = str(input('Enter first name: '))\n",
    "num2 = str(input('Enter last name: '))\n",
    "print(num2,\" \",num1)\n"
   ]
  },
  {
   "cell_type": "code",
   "execution_count": 5,
   "id": "36966330",
   "metadata": {},
   "outputs": [
    {
     "name": "stdout",
     "output_type": "stream",
     "text": [
      "Enter first number: 4\n",
      "Enter second number: 4\n",
      "The sum of 4 and 4 is 8.0\n"
     ]
    }
   ],
   "source": [
    "# Add two numbers\n",
    "num1 = input('Enter first number: ')\n",
    "num2 = input('Enter second number: ')\n",
    "\n",
    "\n",
    "sum = float(num1) + float(num2)\n",
    "\n",
    "print('The sum of {0} and {1} is {2}'.format(num1, num2, sum))\n"
   ]
  },
  {
   "cell_type": "code",
   "execution_count": null,
   "id": "3c1fe909",
   "metadata": {},
   "outputs": [],
   "source": []
  }
 ],
 "metadata": {
  "kernelspec": {
   "display_name": "Python 3 (ipykernel)",
   "language": "python",
   "name": "python3"
  },
  "language_info": {
   "codemirror_mode": {
    "name": "ipython",
    "version": 3
   },
   "file_extension": ".py",
   "mimetype": "text/x-python",
   "name": "python",
   "nbconvert_exporter": "python",
   "pygments_lexer": "ipython3",
   "version": "3.9.7"
  }
 },
 "nbformat": 4,
 "nbformat_minor": 5
}
